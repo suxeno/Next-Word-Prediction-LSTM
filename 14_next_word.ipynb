{
  "cells": [
    {
      "cell_type": "markdown",
      "metadata": {
        "id": "-ffY4HNcSjj0"
      },
      "source": [
        "## Import Library Needed"
      ]
    },
    {
      "cell_type": "code",
      "execution_count": 1,
      "metadata": {
        "id": "8NtDx-cTSjj2"
      },
      "outputs": [],
      "source": [
        "import numpy as np\n",
        "import tensorflow as tf\n",
        "from tensorflow.keras.preprocessing.text import Tokenizer\n",
        "from tensorflow.keras.models import Sequential, load_model\n",
        "from tensorflow.keras.preprocessing.sequence import pad_sequences\n",
        "from tensorflow.keras.layers import Embedding, LSTM, Dense\n",
        "from tensorflow.keras.callbacks import EarlyStopping"
      ]
    },
    {
      "cell_type": "markdown",
      "metadata": {
        "id": "PD7iMkFLSjj3"
      },
      "source": [
        "## Load Data"
      ]
    },
    {
      "cell_type": "code",
      "execution_count": 2,
      "metadata": {
        "id": "agxWJH4ESjj3"
      },
      "outputs": [],
      "source": [
        "with open('Kanye_West.txt', 'r', encoding='unicode_escape') as myfile:\n",
        "    mytext = myfile.read()"
      ]
    },
    {
      "cell_type": "code",
      "execution_count": null,
      "metadata": {
        "colab": {
          "base_uri": "https://localhost:8080/",
          "height": 146
        },
        "id": "IMZnu4alSjj3",
        "outputId": "6dc875a6-fbdf-4226-b95f-c004f1d04c51"
      },
      "outputs": [],
      "source": [
        "mytext"
      ]
    },
    {
      "cell_type": "markdown",
      "metadata": {
        "id": "TyEFI89lSjj3"
      },
      "source": [
        "## Preprocessing"
      ]
    },
    {
      "cell_type": "code",
      "execution_count": 4,
      "metadata": {
        "id": "NqIK88UySjj3"
      },
      "outputs": [],
      "source": [
        "my_tokenizer = Tokenizer()\n",
        "my_tokenizer.fit_on_texts([mytext])\n",
        "total_words = len(my_tokenizer.word_index) + 1"
      ]
    },
    {
      "cell_type": "code",
      "execution_count": null,
      "metadata": {
        "colab": {
          "base_uri": "https://localhost:8080/",
          "height": 0
        },
        "id": "WgpFRvk_Sjj3",
        "outputId": "07525c2a-b317-4153-ae63-dea6a15fab3d"
      },
      "outputs": [],
      "source": [
        "my_tokenizer.word_index"
      ]
    },
    {
      "cell_type": "code",
      "execution_count": null,
      "metadata": {
        "colab": {
          "base_uri": "https://localhost:8080/",
          "height": 0
        },
        "id": "jrbgPbDySjj3",
        "outputId": "7043e1cc-011f-4c3a-f954-4198f10af29e"
      },
      "outputs": [],
      "source": [
        "my_input_sequences = []\n",
        "for line in mytext.split('\\n'):\n",
        "    # print(line)\n",
        "    token_list = my_tokenizer.texts_to_sequences([line])[0]\n",
        "    print(token_list)\n",
        "    for i in range(1, len(token_list)):\n",
        "        my_n_gram_sequence = token_list[:i+1]\n",
        "        my_input_sequences.append(my_n_gram_sequence)\n",
        "        # print(input_sequences)"
      ]
    },
    {
      "cell_type": "code",
      "execution_count": null,
      "metadata": {
        "colab": {
          "base_uri": "https://localhost:8080/",
          "height": 0
        },
        "id": "XLULDm1SSjj4",
        "outputId": "f1431a04-b121-47d4-a151-030d604e0c62"
      },
      "outputs": [],
      "source": [
        "my_input_sequences = []\n",
        "for line in mytext.split('\\n'):\n",
        "    # print(line)\n",
        "    token_list = my_tokenizer.texts_to_sequences([line])[0]\n",
        "    # print(token_list)\n",
        "    for i in range(1, len(token_list)):\n",
        "        my_n_gram_sequence = token_list[:i+1]\n",
        "        print(my_n_gram_sequence)\n",
        "        my_input_sequences.append(my_n_gram_sequence)\n",
        "        # print(input_sequences)"
      ]
    },
    {
      "cell_type": "code",
      "execution_count": 8,
      "metadata": {
        "id": "rsTPkxq1Sjj4"
      },
      "outputs": [],
      "source": [
        "max_sequence_len = max([len(seq) for seq in my_input_sequences])\n",
        "input_sequences = np.array(pad_sequences(my_input_sequences, maxlen=max_sequence_len, padding='pre'))"
      ]
    },
    {
      "cell_type": "code",
      "execution_count": 9,
      "metadata": {
        "colab": {
          "base_uri": "https://localhost:8080/",
          "height": 0
        },
        "id": "kXrCsEB1Sjj4",
        "outputId": "e384e736-fb44-424f-f7d0-4239fc4e01ba"
      },
      "outputs": [
        {
          "data": {
            "text/plain": [
              "array([[   0,    0,    0, ...,    0, 2668,  240],\n",
              "       [   0,    0,    0, ..., 2668,  240, 1097],\n",
              "       [   0,    0,    0, ...,  240, 1097,  240],\n",
              "       ...,\n",
              "       [   0,    0,    0, ...,  814,    6,   10],\n",
              "       [   0,    0,    0, ...,    0,   25,    9],\n",
              "       [   0,    0,    0, ...,   25,    9,    3]], dtype=int32)"
            ]
          },
          "execution_count": 9,
          "metadata": {},
          "output_type": "execute_result"
        }
      ],
      "source": [
        "input_sequences"
      ]
    },
    {
      "cell_type": "code",
      "execution_count": 10,
      "metadata": {
        "id": "ucobfSbuSjj4"
      },
      "outputs": [],
      "source": [
        "X = input_sequences[:, :-1]\n",
        "y = input_sequences[:, -1]"
      ]
    },
    {
      "cell_type": "code",
      "execution_count": 11,
      "metadata": {
        "colab": {
          "base_uri": "https://localhost:8080/",
          "height": 0
        },
        "id": "SiYZpOFySjj4",
        "outputId": "768fac5c-1350-473d-d1c2-55d90be49dd0"
      },
      "outputs": [
        {
          "data": {
            "text/plain": [
              "array([   0,    0,    0,    0,    0,    0,    0,    0,    0,    0,    0,\n",
              "          0,    0,    0,    0, 2668,  240, 1097], dtype=int32)"
            ]
          },
          "execution_count": 11,
          "metadata": {},
          "output_type": "execute_result"
        }
      ],
      "source": [
        "X[2]"
      ]
    },
    {
      "cell_type": "code",
      "execution_count": 12,
      "metadata": {
        "colab": {
          "base_uri": "https://localhost:8080/",
          "height": 0
        },
        "id": "e9nIGBWPSjj5",
        "outputId": "b721f66f-152a-4ec4-e4c3-2461ca8d9c1f"
      },
      "outputs": [
        {
          "data": {
            "text/plain": [
              "240"
            ]
          },
          "execution_count": 12,
          "metadata": {},
          "output_type": "execute_result"
        }
      ],
      "source": [
        "y[2]"
      ]
    },
    {
      "cell_type": "code",
      "execution_count": 13,
      "metadata": {
        "colab": {
          "base_uri": "https://localhost:8080/",
          "height": 0
        },
        "id": "TeqtgytHSjj5",
        "outputId": "6ceb050a-830f-4a0c-e7f3-784146098bf7"
      },
      "outputs": [
        {
          "data": {
            "text/plain": [
              "array([[   0,    0,    0, ...,    0,    0, 2668],\n",
              "       [   0,    0,    0, ...,    0, 2668,  240],\n",
              "       [   0,    0,    0, ..., 2668,  240, 1097],\n",
              "       ...,\n",
              "       [   0,    0,    0, ...,   61,  814,    6],\n",
              "       [   0,    0,    0, ...,    0,    0,   25],\n",
              "       [   0,    0,    0, ...,    0,   25,    9]], dtype=int32)"
            ]
          },
          "execution_count": 13,
          "metadata": {},
          "output_type": "execute_result"
        }
      ],
      "source": [
        "X"
      ]
    },
    {
      "cell_type": "code",
      "execution_count": 14,
      "metadata": {
        "colab": {
          "base_uri": "https://localhost:8080/",
          "height": 0
        },
        "id": "DSmbamxzSjj5",
        "outputId": "7b42ae9d-e81a-4c91-88b9-2a14eb96d815"
      },
      "outputs": [
        {
          "data": {
            "text/plain": [
              "array([ 240, 1097,  240, ...,   10,    9,    3], dtype=int32)"
            ]
          },
          "execution_count": 14,
          "metadata": {},
          "output_type": "execute_result"
        }
      ],
      "source": [
        "y"
      ]
    },
    {
      "cell_type": "code",
      "execution_count": 15,
      "metadata": {
        "id": "wGHuMltgSjj5"
      },
      "outputs": [],
      "source": [
        "# lakukan one hot encoding\n",
        "y = np.array(tf.keras.utils.to_categorical(y, num_classes=total_words))"
      ]
    },
    {
      "cell_type": "code",
      "execution_count": 16,
      "metadata": {
        "colab": {
          "base_uri": "https://localhost:8080/",
          "height": 0
        },
        "id": "Mhy1M8eMSjj5",
        "outputId": "094fccb9-2893-4c70-86a1-c09c17639296"
      },
      "outputs": [
        {
          "data": {
            "text/plain": [
              "array([[0., 0., 0., ..., 0., 0., 0.],\n",
              "       [0., 0., 0., ..., 0., 0., 0.],\n",
              "       [0., 0., 0., ..., 0., 0., 0.],\n",
              "       ...,\n",
              "       [0., 0., 0., ..., 0., 0., 0.],\n",
              "       [0., 0., 0., ..., 0., 0., 0.],\n",
              "       [0., 0., 0., ..., 0., 0., 0.]], dtype=float32)"
            ]
          },
          "execution_count": 16,
          "metadata": {},
          "output_type": "execute_result"
        }
      ],
      "source": [
        "y"
      ]
    },
    {
      "cell_type": "code",
      "execution_count": 17,
      "metadata": {
        "colab": {
          "base_uri": "https://localhost:8080/",
          "height": 0
        },
        "id": "fRkQ6gIhSjj5",
        "outputId": "6d40d1ec-a6e6-4bc3-9259-3d632f63bfbc"
      },
      "outputs": [
        {
          "data": {
            "text/plain": [
              "array([0., 0., 0., ..., 0., 0., 0.], dtype=float32)"
            ]
          },
          "execution_count": 17,
          "metadata": {},
          "output_type": "execute_result"
        }
      ],
      "source": [
        "y[0]"
      ]
    },
    {
      "cell_type": "markdown",
      "metadata": {
        "id": "uKR1HRymSjj5"
      },
      "source": [
        "## Define Models"
      ]
    },
    {
      "cell_type": "code",
      "execution_count": 18,
      "metadata": {
        "colab": {
          "base_uri": "https://localhost:8080/",
          "height": 0
        },
        "id": "gpUcDbmmSjj5",
        "outputId": "94f9978d-3596-4963-a32f-6c8fa764550b"
      },
      "outputs": [
        {
          "name": "stdout",
          "output_type": "stream",
          "text": [
            "Model: \"sequential\"\n",
            "_________________________________________________________________\n",
            " Layer (type)                Output Shape              Param #   \n",
            "=================================================================\n",
            " embedding (Embedding)       (None, 18, 100)           614200    \n",
            "                                                                 \n",
            " lstm (LSTM)                 (None, 150)               150600    \n",
            "                                                                 \n",
            " dense (Dense)               (None, 6142)              927442    \n",
            "                                                                 \n",
            "=================================================================\n",
            "Total params: 1692242 (6.46 MB)\n",
            "Trainable params: 1692242 (6.46 MB)\n",
            "Non-trainable params: 0 (0.00 Byte)\n",
            "_________________________________________________________________\n",
            "None\n"
          ]
        }
      ],
      "source": [
        "model = tf.keras.models.Sequential()\n",
        "model.add(Embedding(total_words, 100, input_length=max_sequence_len-1))\n",
        "model.add(LSTM(150))\n",
        "model.add(Dense(total_words, activation='softmax'))\n",
        "print(model.summary())"
      ]
    },
    {
      "cell_type": "code",
      "execution_count": 19,
      "metadata": {
        "id": "IHhM9WABSjj6"
      },
      "outputs": [],
      "source": [
        "model.compile(loss='categorical_crossentropy', optimizer='adam', metrics=['accuracy'])"
      ]
    },
    {
      "cell_type": "code",
      "execution_count": 20,
      "metadata": {
        "colab": {
          "base_uri": "https://localhost:8080/",
          "height": 0
        },
        "id": "Nk3fqQ6WSjj6",
        "outputId": "c5a91e4d-8cd2-4c41-e8ba-b4d53218832d"
      },
      "outputs": [
        {
          "name": "stdout",
          "output_type": "stream",
          "text": [
            "Epoch 1/100\n",
            "1413/1413 [==============================] - 23s 14ms/step - loss: 6.7223 - accuracy: 0.0414\n",
            "Epoch 2/100\n",
            "1413/1413 [==============================] - 11s 8ms/step - loss: 6.1304 - accuracy: 0.0636\n",
            "Epoch 3/100\n",
            "1413/1413 [==============================] - 10s 7ms/step - loss: 5.7624 - accuracy: 0.0838\n",
            "Epoch 4/100\n",
            "1413/1413 [==============================] - 10s 7ms/step - loss: 5.4345 - accuracy: 0.1026\n",
            "Epoch 5/100\n",
            "1413/1413 [==============================] - 9s 7ms/step - loss: 5.0986 - accuracy: 0.1235\n",
            "Epoch 6/100\n",
            "1413/1413 [==============================] - 10s 7ms/step - loss: 4.7692 - accuracy: 0.1428\n",
            "Epoch 7/100\n",
            "1413/1413 [==============================] - 10s 7ms/step - loss: 4.4509 - accuracy: 0.1683\n",
            "Epoch 8/100\n",
            "1413/1413 [==============================] - 10s 7ms/step - loss: 4.1465 - accuracy: 0.1997\n",
            "Epoch 9/100\n",
            "1413/1413 [==============================] - 10s 7ms/step - loss: 3.8543 - accuracy: 0.2399\n",
            "Epoch 10/100\n",
            "1413/1413 [==============================] - 9s 7ms/step - loss: 3.5813 - accuracy: 0.2824\n",
            "Epoch 11/100\n",
            "1413/1413 [==============================] - 10s 7ms/step - loss: 3.3306 - accuracy: 0.3225\n",
            "Epoch 12/100\n",
            "1413/1413 [==============================] - 10s 7ms/step - loss: 3.1027 - accuracy: 0.3617\n",
            "Epoch 13/100\n",
            "1413/1413 [==============================] - 10s 7ms/step - loss: 2.8973 - accuracy: 0.3979\n",
            "Epoch 14/100\n",
            "1413/1413 [==============================] - 9s 7ms/step - loss: 2.7124 - accuracy: 0.4313\n",
            "Epoch 15/100\n",
            "1413/1413 [==============================] - 10s 7ms/step - loss: 2.5383 - accuracy: 0.4663\n",
            "Epoch 16/100\n",
            "1413/1413 [==============================] - 10s 7ms/step - loss: 2.3842 - accuracy: 0.4942\n",
            "Epoch 17/100\n",
            "1413/1413 [==============================] - 12s 9ms/step - loss: 2.2403 - accuracy: 0.5225\n",
            "Epoch 18/100\n",
            "1413/1413 [==============================] - 9s 7ms/step - loss: 2.1080 - accuracy: 0.5492\n",
            "Epoch 19/100\n",
            "1413/1413 [==============================] - 10s 7ms/step - loss: 1.9877 - accuracy: 0.5757\n",
            "Epoch 20/100\n",
            "1413/1413 [==============================] - 10s 7ms/step - loss: 1.8765 - accuracy: 0.5968\n",
            "Epoch 21/100\n",
            "1413/1413 [==============================] - 10s 7ms/step - loss: 1.7739 - accuracy: 0.6182\n",
            "Epoch 22/100\n",
            "1413/1413 [==============================] - 9s 6ms/step - loss: 1.6821 - accuracy: 0.6357\n",
            "Epoch 23/100\n",
            "1413/1413 [==============================] - 10s 7ms/step - loss: 1.5947 - accuracy: 0.6548\n",
            "Epoch 24/100\n",
            "1413/1413 [==============================] - 10s 7ms/step - loss: 1.5162 - accuracy: 0.6731\n",
            "Epoch 25/100\n",
            "1413/1413 [==============================] - 11s 8ms/step - loss: 1.4434 - accuracy: 0.6871\n",
            "Epoch 26/100\n",
            "1413/1413 [==============================] - 9s 6ms/step - loss: 1.3763 - accuracy: 0.7001\n",
            "Epoch 27/100\n",
            "1413/1413 [==============================] - 10s 7ms/step - loss: 1.3130 - accuracy: 0.7137\n",
            "Epoch 28/100\n",
            "1413/1413 [==============================] - 10s 7ms/step - loss: 1.2575 - accuracy: 0.7260\n",
            "Epoch 29/100\n",
            "1413/1413 [==============================] - 9s 7ms/step - loss: 1.2051 - accuracy: 0.7375\n",
            "Epoch 30/100\n",
            "1413/1413 [==============================] - 9s 6ms/step - loss: 1.1593 - accuracy: 0.7451\n",
            "Epoch 31/100\n",
            "1413/1413 [==============================] - 10s 7ms/step - loss: 1.1144 - accuracy: 0.7548\n",
            "Epoch 32/100\n",
            "1413/1413 [==============================] - 10s 7ms/step - loss: 1.0750 - accuracy: 0.7630\n",
            "Epoch 33/100\n",
            "1413/1413 [==============================] - 9s 7ms/step - loss: 1.0389 - accuracy: 0.7709\n",
            "Epoch 34/100\n",
            "1413/1413 [==============================] - 9s 6ms/step - loss: 1.0028 - accuracy: 0.7769\n",
            "Epoch 35/100\n",
            "1413/1413 [==============================] - 10s 7ms/step - loss: 0.9730 - accuracy: 0.7829\n",
            "Epoch 36/100\n",
            "1413/1413 [==============================] - 10s 7ms/step - loss: 0.9454 - accuracy: 0.7870\n",
            "Epoch 37/100\n",
            "1413/1413 [==============================] - 9s 7ms/step - loss: 0.9201 - accuracy: 0.7912\n",
            "Epoch 38/100\n",
            "1413/1413 [==============================] - 9s 7ms/step - loss: 0.8965 - accuracy: 0.7942\n",
            "Epoch 39/100\n",
            "1413/1413 [==============================] - 10s 7ms/step - loss: 0.8762 - accuracy: 0.7988\n",
            "Epoch 40/100\n",
            "1413/1413 [==============================] - 10s 7ms/step - loss: 0.8554 - accuracy: 0.8015\n",
            "Epoch 41/100\n",
            "1413/1413 [==============================] - 9s 6ms/step - loss: 0.8375 - accuracy: 0.8050\n",
            "Epoch 42/100\n",
            "1413/1413 [==============================] - 10s 7ms/step - loss: 0.8198 - accuracy: 0.8069\n",
            "Epoch 43/100\n",
            "1413/1413 [==============================] - 10s 7ms/step - loss: 0.8077 - accuracy: 0.8076\n",
            "Epoch 44/100\n",
            "1413/1413 [==============================] - 10s 7ms/step - loss: 0.7932 - accuracy: 0.8120\n",
            "Epoch 45/100\n",
            "1413/1413 [==============================] - 9s 6ms/step - loss: 0.7788 - accuracy: 0.8137\n",
            "Epoch 46/100\n",
            "1413/1413 [==============================] - 10s 7ms/step - loss: 0.7671 - accuracy: 0.8155\n",
            "Epoch 47/100\n",
            "1413/1413 [==============================] - 10s 7ms/step - loss: 0.7610 - accuracy: 0.8160\n",
            "Epoch 48/100\n",
            "1413/1413 [==============================] - 10s 7ms/step - loss: 0.7488 - accuracy: 0.8175\n",
            "Epoch 49/100\n",
            "1413/1413 [==============================] - 9s 6ms/step - loss: 0.7378 - accuracy: 0.8185\n",
            "Epoch 50/100\n",
            "1413/1413 [==============================] - 10s 7ms/step - loss: 0.7283 - accuracy: 0.8194\n",
            "Epoch 51/100\n",
            "1413/1413 [==============================] - 10s 7ms/step - loss: 0.7220 - accuracy: 0.8209\n",
            "Epoch 52/100\n",
            "1413/1413 [==============================] - 10s 7ms/step - loss: 0.7157 - accuracy: 0.8209\n",
            "Epoch 53/100\n",
            "1413/1413 [==============================] - 9s 6ms/step - loss: 0.7096 - accuracy: 0.8213\n",
            "Epoch 54/100\n",
            "1413/1413 [==============================] - 10s 7ms/step - loss: 0.7013 - accuracy: 0.8221\n",
            "Epoch 55/100\n",
            "1413/1413 [==============================] - 10s 7ms/step - loss: 0.6958 - accuracy: 0.8231\n",
            "Epoch 56/100\n",
            "1413/1413 [==============================] - 10s 7ms/step - loss: 0.6917 - accuracy: 0.8235\n",
            "Epoch 57/100\n",
            "1413/1413 [==============================] - 9s 6ms/step - loss: 0.6866 - accuracy: 0.8231\n",
            "Epoch 58/100\n",
            "1413/1413 [==============================] - 10s 7ms/step - loss: 0.6817 - accuracy: 0.8244\n",
            "Epoch 59/100\n",
            "1413/1413 [==============================] - 10s 7ms/step - loss: 0.6797 - accuracy: 0.8242\n",
            "Epoch 60/100\n",
            "1413/1413 [==============================] - 9s 7ms/step - loss: 0.6736 - accuracy: 0.8246\n",
            "Epoch 61/100\n",
            "1413/1413 [==============================] - 9s 6ms/step - loss: 0.6698 - accuracy: 0.8244\n",
            "Epoch 62/100\n",
            "1413/1413 [==============================] - 10s 7ms/step - loss: 0.6670 - accuracy: 0.8251\n",
            "Epoch 63/100\n",
            "1413/1413 [==============================] - 10s 7ms/step - loss: 0.6637 - accuracy: 0.8254\n",
            "Epoch 64/100\n",
            "1413/1413 [==============================] - 9s 7ms/step - loss: 0.6629 - accuracy: 0.8250\n",
            "Epoch 65/100\n",
            "1413/1413 [==============================] - 9s 7ms/step - loss: 0.6599 - accuracy: 0.8247\n",
            "Epoch 66/100\n",
            "1413/1413 [==============================] - 10s 7ms/step - loss: 0.6545 - accuracy: 0.8252\n",
            "Epoch 67/100\n",
            "1413/1413 [==============================] - 10s 7ms/step - loss: 0.6542 - accuracy: 0.8255\n",
            "Epoch 68/100\n",
            "1413/1413 [==============================] - 9s 6ms/step - loss: 0.6488 - accuracy: 0.8254\n",
            "Epoch 69/100\n",
            "1413/1413 [==============================] - 9s 7ms/step - loss: 0.6487 - accuracy: 0.8252\n",
            "Epoch 70/100\n",
            "1413/1413 [==============================] - 10s 7ms/step - loss: 0.6446 - accuracy: 0.8264\n",
            "Epoch 71/100\n",
            "1413/1413 [==============================] - 10s 7ms/step - loss: 0.6489 - accuracy: 0.8253\n",
            "Epoch 72/100\n",
            "1413/1413 [==============================] - 9s 6ms/step - loss: 0.6409 - accuracy: 0.8255\n",
            "Epoch 73/100\n",
            "1413/1413 [==============================] - 10s 7ms/step - loss: 0.6389 - accuracy: 0.8263\n",
            "Epoch 74/100\n",
            "1413/1413 [==============================] - 10s 7ms/step - loss: 0.6363 - accuracy: 0.8269\n",
            "Epoch 75/100\n",
            "1413/1413 [==============================] - 10s 7ms/step - loss: 0.6377 - accuracy: 0.8266\n",
            "Epoch 76/100\n",
            "1413/1413 [==============================] - 9s 6ms/step - loss: 0.6373 - accuracy: 0.8249\n",
            "Epoch 77/100\n",
            "1413/1413 [==============================] - 10s 7ms/step - loss: 0.6330 - accuracy: 0.8258\n",
            "Epoch 78/100\n",
            "1413/1413 [==============================] - 10s 7ms/step - loss: 0.6290 - accuracy: 0.8277\n",
            "Epoch 79/100\n",
            "1413/1413 [==============================] - 10s 7ms/step - loss: 0.6324 - accuracy: 0.8251\n",
            "Epoch 80/100\n",
            "1413/1413 [==============================] - 9s 6ms/step - loss: 0.6321 - accuracy: 0.8261\n",
            "Epoch 81/100\n",
            "1413/1413 [==============================] - 10s 7ms/step - loss: 0.6278 - accuracy: 0.8259\n",
            "Epoch 82/100\n",
            "1413/1413 [==============================] - 11s 7ms/step - loss: 0.6260 - accuracy: 0.8258\n",
            "Epoch 83/100\n",
            "1413/1413 [==============================] - 10s 7ms/step - loss: 0.6262 - accuracy: 0.8257\n",
            "Epoch 84/100\n",
            "1413/1413 [==============================] - 9s 6ms/step - loss: 0.6269 - accuracy: 0.8250\n",
            "Epoch 85/100\n",
            "1413/1413 [==============================] - 10s 7ms/step - loss: 0.6215 - accuracy: 0.8271\n",
            "Epoch 86/100\n",
            "1413/1413 [==============================] - 10s 7ms/step - loss: 0.6211 - accuracy: 0.8270\n",
            "Epoch 87/100\n",
            "1413/1413 [==============================] - 9s 7ms/step - loss: 0.6214 - accuracy: 0.8256\n",
            "Epoch 88/100\n",
            "1413/1413 [==============================] - 9s 7ms/step - loss: 0.6222 - accuracy: 0.8268\n",
            "Epoch 89/100\n",
            "1413/1413 [==============================] - 10s 7ms/step - loss: 0.6193 - accuracy: 0.8274\n",
            "Epoch 90/100\n",
            "1413/1413 [==============================] - 10s 7ms/step - loss: 0.6168 - accuracy: 0.8274\n",
            "Epoch 91/100\n",
            "1413/1413 [==============================] - 9s 7ms/step - loss: 0.6207 - accuracy: 0.8257\n",
            "Epoch 92/100\n",
            "1413/1413 [==============================] - 9s 7ms/step - loss: 0.6137 - accuracy: 0.8274\n",
            "Epoch 93/100\n",
            "1413/1413 [==============================] - 10s 7ms/step - loss: 0.6160 - accuracy: 0.8266\n",
            "Epoch 94/100\n",
            "1413/1413 [==============================] - 10s 7ms/step - loss: 0.6159 - accuracy: 0.8271\n",
            "Epoch 95/100\n",
            "1413/1413 [==============================] - 9s 6ms/step - loss: 0.6140 - accuracy: 0.8260\n",
            "Epoch 96/100\n",
            "1413/1413 [==============================] - 10s 7ms/step - loss: 0.6124 - accuracy: 0.8267\n",
            "Epoch 97/100\n",
            "1413/1413 [==============================] - 10s 7ms/step - loss: 0.6122 - accuracy: 0.8268\n",
            "Epoch 98/100\n",
            "1413/1413 [==============================] - 10s 7ms/step - loss: 0.6119 - accuracy: 0.8268\n",
            "Epoch 99/100\n",
            "1413/1413 [==============================] - 9s 6ms/step - loss: 0.6159 - accuracy: 0.8260\n",
            "Epoch 100/100\n",
            "1413/1413 [==============================] - 10s 7ms/step - loss: 0.6102 - accuracy: 0.8270\n"
          ]
        }
      ],
      "source": [
        "hist = model.fit(X, y, epochs=100, verbose=1)"
      ]
    },
    {
      "cell_type": "code",
      "execution_count": 21,
      "metadata": {
        "colab": {
          "base_uri": "https://localhost:8080/",
          "height": 607
        },
        "id": "fCHW5ZB2Sjj6",
        "outputId": "30171a6c-5147-4158-9658-e1345237e752"
      },
      "outputs": [
        {
          "data": {
            "image/png": "[encoded data removed]",
            "text/plain": [
              "<Figure size 1200x600 with 2 Axes>"
            ]
          },
          "metadata": {},
          "output_type": "display_data"
        }
      ],
      "source": [
        "import matplotlib.pyplot as plt\n",
        "\n",
        "# Plot training & validation accuracy values\n",
        "plt.figure(figsize=(12, 6))\n",
        "\n",
        "plt.subplot(1, 2, 1)\n",
        "plt.plot(hist.history['accuracy'], label='Train')\n",
        "plt.title('Model Accuracy')\n",
        "plt.xlabel('Epoch')\n",
        "plt.ylabel('Accuracy')\n",
        "plt.legend()\n",
        "\n",
        "# Plot training & validation loss values\n",
        "plt.subplot(1, 2, 2)\n",
        "plt.plot(hist.history['loss'], label='Train')\n",
        "plt.title('Model Loss')\n",
        "plt.xlabel('Epoch')\n",
        "plt.ylabel('Loss')\n",
        "plt.legend()\n",
        "\n",
        "plt.tight_layout()\n",
        "plt.show()"
      ]
    },
    {
      "cell_type": "markdown",
      "metadata": {
        "id": "cXJYkkWBSjj6"
      },
      "source": [
        "## Make Prediction"
      ]
    },
    {
      "cell_type": "markdown",
      "metadata": {
        "id": "tiFyUR6CSjj7"
      },
      "source": [
        "## Save Model"
      ]
    },
    {
      "cell_type": "code",
      "execution_count": 26,
      "metadata": {
        "colab": {
          "base_uri": "https://localhost:8080/",
          "height": 0
        },
        "id": "SW5wxREeYtcv",
        "outputId": "446749d0-3c64-4ac4-9c53-9f4671a70287"
      },
      "outputs": [
        {
          "name": "stderr",
          "output_type": "stream",
          "text": [
            "/usr/local/lib/python3.10/dist-packages/keras/src/engine/training.py:3103: UserWarning: You are saving your model as an HDF5 file via `model.save()`. This file format is considered legacy. We recommend using instead the native Keras format, e.g. `model.save('my_model.keras')`.\n",
            "  saving_api.save_model(\n"
          ]
        }
      ],
      "source": [
        "model.save(\"/content/mymodel.h5\")"
      ]
    },
    {
      "cell_type": "markdown",
      "metadata": {
        "id": "a0S_BKwFSjj7"
      },
      "source": [
        "## Load Model"
      ]
    },
    {
      "cell_type": "code",
      "execution_count": 27,
      "metadata": {
        "id": "AQw_XfaGSjj6"
      },
      "outputs": [],
      "source": [
        "model_loaded = load_model(\"/content/mymodel.h5\")"
      ]
    },
    {
      "cell_type": "code",
      "execution_count": 31,
      "metadata": {
        "colab": {
          "base_uri": "https://localhost:8080/",
          "height": 0
        },
        "id": "15nyJKzqSjj6",
        "outputId": "2a07e79c-8ea1-4930-d0c1-1311c89b730d"
      },
      "outputs": [
        {
          "name": "stdout",
          "output_type": "stream",
          "text": [
            "1/1 [==============================] - 0s 35ms/step\n",
            "Input Text: most rappers\n",
            "Next Words and Probabilities:\n",
            "and: 0.9986\n",
            "to: 0.0003\n",
            "so: 0.0003\n",
            "got: 0.0002\n",
            "taste: 0.0002\n",
            "1/1 [==============================] - 0s 64ms/step\n",
            "Input Text: most rappers taste\n",
            "Next Words and Probabilities:\n",
            "got: 0.9996\n",
            "with: 0.0002\n",
            "aint: 0.0001\n",
            "girl: 0.0000\n",
            "level: 0.0000\n",
            "1/1 [==============================] - 0s 27ms/step\n",
            "Input Text: most rappers taste level\n",
            "Next Words and Probabilities:\n",
            "is: 0.9991\n",
            "for: 0.0003\n",
            "aint: 0.0002\n",
            "way: 0.0001\n",
            "feel: 0.0001\n",
            "1/1 [==============================] - 0s 20ms/step\n",
            "Input Text: most rappers taste level aint\n",
            "Next Words and Probabilities:\n",
            "is: 0.9989\n",
            "at: 0.0005\n",
            "doin: 0.0001\n",
            "pimp: 0.0001\n",
            "hi: 0.0000\n",
            "1/1 [==============================] - 0s 17ms/step\n",
            "Input Text: most rappers taste level aint at\n",
            "Next Words and Probabilities:\n",
            "a: 0.9883\n",
            "my: 0.0051\n",
            "that: 0.0039\n",
            "me: 0.0006\n",
            "please: 0.0006\n",
            "1/1 [==============================] - 0s 17ms/step\n",
            "Input Text: most rappers taste level aint at my\n",
            "Next Words and Probabilities:\n",
            "watch: 0.9987\n",
            "shoes: 0.0003\n",
            "door: 0.0001\n",
            "waist: 0.0001\n",
            "hustle: 0.0001\n",
            "1/1 [==============================] - 0s 16ms/step\n",
            "Input Text: most rappers taste level aint at my waist\n",
            "Next Words and Probabilities:\n",
            "huh: 0.9999\n",
            "doing: 0.0000\n",
            "level: 0.0000\n",
            "today: 0.0000\n",
            "biggie: 0.0000\n",
            "1/1 [==============================] - 0s 17ms/step\n",
            "Input Text: most rappers taste level aint at my waist level\n",
            "Next Words and Probabilities:\n",
            "aint: 0.5305\n",
            "yeah: 0.3709\n",
            "why: 0.0445\n",
            "gonna: 0.0100\n",
            "theres: 0.0088\n",
            "1/1 [==============================] - 0s 17ms/step\n",
            "Input Text: most rappers taste level aint at my waist level gonna\n",
            "Next Words and Probabilities:\n",
            "never: 0.4741\n",
            "had: 0.2630\n",
            "try: 0.2142\n",
            "watch: 0.0384\n",
            "named: 0.0039\n",
            "1/1 [==============================] - 0s 17ms/step\n",
            "Input Text: most rappers taste level aint at my waist level gonna try\n",
            "Next Words and Probabilities:\n",
            "of: 0.4566\n",
            "out: 0.1758\n",
            "us: 0.1684\n",
            "him: 0.1050\n",
            "any: 0.0444\n",
            "most rappers taste level aint at my waist level gonna try us\n"
          ]
        }
      ],
      "source": [
        "import numpy as np\n",
        "\n",
        "input_text = \"most rappers\"\n",
        "predict_next_words = 10\n",
        "\n",
        "for _ in range(predict_next_words):\n",
        "    token_list = my_tokenizer.texts_to_sequences([input_text])[0]\n",
        "    token_list = pad_sequences([token_list], maxlen=max_sequence_len-1, padding='pre')\n",
        "    predictions = model_loaded.predict(token_list)[0]\n",
        "\n",
        "    # Get indices of top predicted words\n",
        "    top_indices = np.argsort(predictions)[-5:][::-1]  # Adjust 5 to the number of top words you want\n",
        "\n",
        "    # Get words corresponding to the indices\n",
        "    next_words = [word for word, index in my_tokenizer.word_index.items() if index in top_indices]\n",
        "\n",
        "    # Print the list of next words along with their probabilities\n",
        "    print(\"Input Text:\", input_text)\n",
        "    print(\"Next Words and Probabilities:\")\n",
        "    for word, index in zip(next_words, top_indices):\n",
        "        probability = predictions[index]\n",
        "        print(f\"{word}: {probability:.4f}\")\n",
        "\n",
        "    # Choose the word with the highest probability as the next word\n",
        "    output_word = my_tokenizer.index_word[top_indices[0]]\n",
        "\n",
        "    input_text += \" \" + output_word\n",
        "\n",
        "print(input_text)"
      ]
    },
    {
      "cell_type": "code",
      "execution_count": 30,
      "metadata": {
        "colab": {
          "base_uri": "https://localhost:8080/",
          "height": 0
        },
        "id": "muHG-VR4Sjj7",
        "outputId": "529b6835-b6ce-4a6b-c70f-66468665de93"
      },
      "outputs": [
        {
          "name": "stdout",
          "output_type": "stream",
          "text": [
            "[1103, 1104]\n",
            "1/1 [==============================] - 0s 17ms/step\n",
            "[1103, 1104, 43]\n",
            "1/1 [==============================] - 0s 18ms/step\n",
            "[1103, 1104, 43, 7]\n",
            "1/1 [==============================] - 0s 17ms/step\n",
            "[1103, 1104, 43, 7, 75]\n",
            "1/1 [==============================] - 0s 17ms/step\n",
            "[1103, 1104, 43, 7, 75, 18]\n",
            "1/1 [==============================] - 0s 17ms/step\n",
            "[1103, 1104, 43, 7, 75, 18, 161]\n",
            "1/1 [==============================] - 0s 19ms/step\n",
            "[1103, 1104, 43, 7, 75, 18, 161, 7]\n",
            "1/1 [==============================] - 0s 18ms/step\n",
            "[1103, 1104, 43, 7, 75, 18, 161, 7, 157]\n",
            "1/1 [==============================] - 0s 19ms/step\n",
            "[1103, 1104, 43, 7, 75, 18, 161, 7, 157, 30]\n",
            "1/1 [==============================] - 0s 20ms/step\n",
            "[1103, 1104, 43, 7, 75, 18, 161, 7, 157, 30, 64]\n",
            "1/1 [==============================] - 0s 18ms/step\n",
            "[1103, 1104, 43, 7, 75, 18, 161, 7, 157, 30, 64, 190]\n",
            "1/1 [==============================] - 0s 17ms/step\n",
            "[1103, 1104, 43, 7, 75, 18, 161, 7, 157, 30, 64, 190, 31]\n",
            "1/1 [==============================] - 0s 19ms/step\n",
            "[1103, 1104, 43, 7, 75, 18, 161, 7, 157, 30, 64, 190, 31, 356]\n",
            "1/1 [==============================] - 0s 17ms/step\n",
            "[1103, 1104, 43, 7, 75, 18, 161, 7, 157, 30, 64, 190, 31, 356, 145]\n",
            "1/1 [==============================] - 0s 17ms/step\n",
            "[1103, 1104, 43, 7, 75, 18, 161, 7, 157, 30, 64, 190, 31, 356, 145, 86]\n",
            "1/1 [==============================] - 0s 16ms/step\n",
            "private jet out my love of head my home be off huh now far best bitch big\n"
          ]
        }
      ],
      "source": [
        "input_text = \"private jet\"\n",
        "predict_next_words = 15\n",
        "\n",
        "for _ in range(predict_next_words):\n",
        "    token_list = my_tokenizer.texts_to_sequences([input_text])[0]\n",
        "    print(token_list)\n",
        "    token_list = pad_sequences([token_list], maxlen=max_sequence_len-1, padding='pre')\n",
        "    predicted = np.argmax(model_loaded.predict(token_list), axis=-1)\n",
        "    output_word = \"\"\n",
        "    for word, index in my_tokenizer.word_index.items():\n",
        "        if index == predicted:\n",
        "            output_word = word\n",
        "            break\n",
        "    input_text += \" \" + output_word\n",
        "\n",
        "print(input_text)"
      ]
    },
    {
      "cell_type": "markdown",
      "metadata": {
        "id": "8u32hSnGZVAC"
      },
      "source": [
        "## Interpretasi:\n",
        "Penggunaan model LSTM untuk projek *next word prediction* ini sudah cukup baik untuk mengetahui kata-kata yang harus di generate selanjutnya. namun masih kurang dalam *generating* sebuah keseluruhan sentence yang memiliki makna, model cenderung memunculkan kata-kata baru yang hanya memiliki korelasi makna berjarak pendek terhadap kata-kata sebelumnya. Lalu penggunaan LSTM sebagai model juga belum cukup baik dalam hal efisiensi karena algoritma LSTM yang tidak memerhatikan penting atau tidaknya suatu kata untuk menjadi inti sebuah *sentence* dan mengambil keseluruhan sentence yang panjang untuk diingat pada algoritmanya."
      ]
    }
  ],
  "metadata": {
    "accelerator": "GPU",
    "colab": {
      "gpuType": "T4",
      "provenance": []
    },
    "kernelspec": {
      "display_name": "Python 3",
      "name": "python3"
    },
    "language_info": {
      "codemirror_mode": {
        "name": "ipython",
        "version": 3
      },
      "file_extension": ".py",
      "mimetype": "text/x-python",
      "name": "python",
      "nbconvert_exporter": "python",
      "pygments_lexer": "ipython3",
      "version": "3.11.5"
    }
  },
  "nbformat": 4,
  "nbformat_minor": 0
}
